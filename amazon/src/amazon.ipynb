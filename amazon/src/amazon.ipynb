{
 "cells": [
  {
   "cell_type": "code",
   "execution_count": 1,
   "metadata": {
    "collapsed": false
   },
   "outputs": [
    {
     "name": "stderr",
     "output_type": "stream",
     "text": [
      "Using TensorFlow backend.\n",
      "/home/ubuntu/src/anaconda3/lib/python3.5/site-packages/sklearn/cross_validation.py:44: DeprecationWarning: This module was deprecated in version 0.18 in favor of the model_selection module into which all the refactored classes and functions are moved. Also note that the interface of the new CV iterators are different from that of this module. This module will be removed in 0.20.\n",
      "  \"This module will be removed in 0.20.\", DeprecationWarning)\n"
     ]
    }
   ],
   "source": [
    "import numpy as np # linear algebra\n",
    "import pandas as pd # data processing, CSV file I/O (e.g. pd.read_csv)\n",
    "import os\n",
    "import json\n",
    "\n",
    "import cv2\n",
    "import matplotlib.pyplot as plt\n",
    "\n",
    "# import tensorflow\n",
    "# import keras\n",
    "from keras.models import Sequential\n",
    "from keras.layers import Dense, Dropout, Flatten, Activation\n",
    "from keras.layers import Conv2D, MaxPooling2D\n",
    "from keras.callbacks import EarlyStopping, ModelCheckpoint\n",
    "\n",
    "from tqdm import tqdm\n",
    "\n",
    "from sklearn.cross_validation import train_test_split\n",
    "from sklearn.cross_validation import KFold\n",
    "from sklearn.metrics import fbeta_score\n",
    "import time"
   ]
  },
  {
   "cell_type": "code",
   "execution_count": 2,
   "metadata": {
    "collapsed": false
   },
   "outputs": [],
   "source": [
    "x_train = []\n",
    "x_test = []\n",
    "y_train = []\n",
    "_BATCH_SIZE = 32\n",
    "_EPOCH = 50\n",
    "_IMG_SIZE = (64, 64)\n",
    "_INPUT_SHAPE = (64, 64, 3)\n",
    "_NUM_OF_CLASSES = 17\n",
    "_NFOLDS = 5\n",
    "_LABELS = [\n",
    "    'haze',\n",
    "    'artisinal_mine',\n",
    "    'blooming',\n",
    "    'habitation',\n",
    "    'cultivation',\n",
    "    'primary',\n",
    "    'clear',\n",
    "    'water',\n",
    "    'road',\n",
    "    'slash_burn',\n",
    "    'cloudy',\n",
    "    'agriculture',\n",
    "    'partly_cloudy',\n",
    "    'conventional_mine',\n",
    "    'bare_ground',\n",
    "    'selective_logging',\n",
    "    'blow_down']\n",
    "df_train = pd.read_csv('../input/train.csv')\n",
    "df_test = pd.read_csv('../input/sample_submission.csv')\n"
   ]
  },
  {
   "cell_type": "code",
   "execution_count": 3,
   "metadata": {
    "collapsed": false
   },
   "outputs": [
    {
     "name": "stdout",
     "output_type": "stream",
     "text": [
      "{0: 'haze', 1: 'artisinal_mine', 2: 'blooming', 3: 'habitation', 4: 'cultivation', 5: 'primary', 6: 'clear', 7: 'water', 8: 'road', 9: 'slash_burn', 10: 'cloudy', 11: 'agriculture', 12: 'partly_cloudy', 13: 'conventional_mine', 14: 'bare_ground', 15: 'selective_logging', 16: 'blow_down'}\n"
     ]
    }
   ],
   "source": [
    "# df_train['tags'].values.shape\n",
    "# flatten = lambda l: [item for sublist in l for item in sublist]\n",
    "# labels = list(set(flatten([l.split(' ') for l in df_train['tags'].values])))\n",
    "labels = ['haze',\n",
    " 'artisinal_mine',\n",
    " 'blooming',\n",
    " 'habitation',\n",
    " 'cultivation',\n",
    " 'primary',\n",
    " 'clear',\n",
    " 'water',\n",
    " 'road',\n",
    " 'slash_burn',\n",
    " 'cloudy',\n",
    " 'agriculture',\n",
    " 'partly_cloudy',\n",
    " 'conventional_mine',\n",
    " 'bare_ground',\n",
    " 'selective_logging',\n",
    " 'blow_down']\n",
    "\n",
    "label_map = {l: i for i, l in enumerate(labels)}\n",
    "inv_label_map = {i: l for l, i in label_map.items()}\n",
    "print(inv_label_map)"
   ]
  },
  {
   "cell_type": "code",
   "execution_count": null,
   "metadata": {
    "collapsed": false
   },
   "outputs": [],
   "source": [
    "img = cv2.imread('../input/train-jpg/train_0.jpg')\n",
    "img.shape"
   ]
  },
  {
   "cell_type": "code",
   "execution_count": 45,
   "metadata": {
    "collapsed": false
   },
   "outputs": [
    {
     "name": "stderr",
     "output_type": "stream",
     "text": [
      "100%|██████████| 30479/30479 [02:07<00:00, 239.76it/s]\n"
     ]
    }
   ],
   "source": [
    "# Image preprocessing\n",
    "from PIL import Image\n",
    "def sharpen():\n",
    "    _SHARP_KERNEL = np.array([[0, -1, 0], [-1, 5, -1], [0, -1, 0]])\n",
    "    for f, tags in tqdm(df_train.values[10000:], miniters=1000):\n",
    "        img = cv2.imread('../input/train-jpg/{}.jpg'.format(f))\n",
    "        img = cv2.cvtColor(img, cv2.COLOR_BGR2RGB)\n",
    "        \n",
    "        sharpen_img = cv2.filter2D(img, -1, _SHARP_KERNEL)\n",
    "        sharpen_img = Image.fromarray(np.uint8(sharpen_img))\n",
    "        sharpen_img.save('../input/train-jpg-sharpen/{}.jpg'.format(f))\n",
    "#         cv2.imwrite('../input/train-jpg-sharpen/{}.jpg'.format(f), sharpen_img, 100)\n",
    "#         plt.subplot(121)\n",
    "#         plt.imshow(img)\n",
    "#         plt.subplot(122)\n",
    "#         plt.imshow(sharpen_img)\n",
    "#         plt.show()\n",
    "def blur():\n",
    "    pass\n",
    "\n",
    "sharpen()"
   ]
  },
  {
   "cell_type": "code",
   "execution_count": null,
   "metadata": {
    "collapsed": false
   },
   "outputs": [],
   "source": [
    "for f, tags in tqdm(df_train.values[:10000], miniters=1000):\n",
    "    img = cv2.imread('../input/train-jpg/{}.jpg'.format(f))\n",
    "    targets = np.zeros(17)\n",
    "    for t in tags.split(' '):\n",
    "        targets[label_map[t]] = 1 \n",
    "    x_train.append(cv2.resize(img, (64, 64)))\n",
    "    y_train.append(targets)\n",
    "\n",
    "for f, tags in tqdm(df_test.values[:10000], miniters=1000):\n",
    "    img = cv2.imread('../input/test-jpg/{}.jpg'.format(f))\n",
    "    x_test.append(cv2.resize(img, (64, 64)))\n",
    "    \n",
    "y_train = np.array(y_train, np.uint8)\n",
    "x_train = np.array(x_train, np.float32) / 255.\n",
    "x_test  = np.array(x_test, np.float32) / 255.\n",
    "\n",
    "print(x_train.shape)\n",
    "print(y_train.shape)"
   ]
  },
  {
   "cell_type": "code",
   "execution_count": null,
   "metadata": {
    "collapsed": true
   },
   "outputs": [],
   "source": []
  },
  {
   "cell_type": "code",
   "execution_count": null,
   "metadata": {
    "collapsed": false
   },
   "outputs": [],
   "source": [
    "def load_model(weights_path=None):\n",
    "    model = Sequential()\n",
    "\n",
    "#     model.add(Conv2D(32, 3, 3, activation='relu', input_shape=(48, 48, 3)))\n",
    "#     model.add(MaxPooling2D(pool_size=(2, 2)))\n",
    "#     model.add(Conv2D(48, 3, 3, activation='relu'))\n",
    "#     model.add(MaxPooling2D(pool_size=(2, 2)))\n",
    "#     model.add(Dropout(0.25))\n",
    "#     model.add(Conv2D(64, 3, 3, activation='relu'))\n",
    "#     model.add(MaxPooling2D(pool_size=(2, 2)))\n",
    "#     model.add(Dropout(0.25))\n",
    "#     model.add(Flatten())\n",
    "#     model.add(Dense(128, activation='relu'))\n",
    "#     model.add(Dropout(0.5))\n",
    "#     model.add(Dense(17, activation='softmax'))\n",
    "\n",
    "    model.add(Conv2D(32, (3, 3), padding='same', input_shape=_INPUT_SHAPE))\n",
    "    model.add(Activation('relu'))\n",
    "    model.add(Conv2D(32, (3, 3)))\n",
    "    model.add(Activation('relu'))\n",
    "    model.add(MaxPooling2D(pool_size=(2, 2)))\n",
    "    model.add(Dropout(0.25))\n",
    "\n",
    "    model.add(Conv2D(64, (3, 3), padding='same'))\n",
    "    model.add(Activation('relu'))\n",
    "    model.add(Conv2D(64, (3, 3)))\n",
    "    model.add(Activation('relu'))\n",
    "    model.add(MaxPooling2D(pool_size=(2, 2)))\n",
    "    model.add(Dropout(0.25))\n",
    "\n",
    "    model.add(Flatten())\n",
    "    model.add(Dense(512))\n",
    "    model.add(Activation('relu'))\n",
    "    model.add(Dropout(0.5))\n",
    "    model.add(Dense(_NUM_OF_CLASSES))\n",
    "    model.add(Activation('softmax'))\n",
    "\n",
    "    model.compile(loss='binary_crossentropy',\n",
    "                  optimizer='adam',\n",
    "                  metrics=['accuracy'])\n",
    "    if weights_path:\n",
    "        model.load_weights(weights_path)\n",
    "    return model\n"
   ]
  },
  {
   "cell_type": "code",
   "execution_count": null,
   "metadata": {
    "collapsed": false,
    "scrolled": true
   },
   "outputs": [],
   "source": [
    "nfolds = 5\n",
    "\n",
    "num_fold = 0\n",
    "sum_score = 0\n",
    "\n",
    "yfull_test = []\n",
    "yfull_train =[]\n",
    "historys = []\n",
    "f_scores = [{}, {}, {}, {}, {}]\n",
    "\n",
    "kf = KFold(len(y_train), n_folds=nfolds, shuffle=True, random_state=1)\n",
    "\n",
    "for train_index, test_index in kf:\n",
    "        start_time_model_fitting = time.time()\n",
    "#         print(train_index, test_index)\n",
    "        X_train = x_train[train_index]\n",
    "        Y_train = y_train[train_index]\n",
    "        X_valid = x_train[test_index]\n",
    "        Y_valid = y_train[test_index]\n",
    "\n",
    "        num_fold += 1\n",
    "        print('Start KFold number {} from {}'.format(num_fold, nfolds))\n",
    "        print('Split train: ', len(X_train), len(Y_train))\n",
    "        print('Split valid: ', len(X_valid), len(Y_valid))\n",
    "        \n",
    "        kfold_weights_path = os.path.join('', 'weights_kfold_' + str(num_fold) + '.h5')\n",
    "        \n",
    "#         model = load_model()\n",
    "\n",
    "#         callbacks = [\n",
    "#             EarlyStopping(monitor='val_loss', patience=2, verbose=0),\n",
    "#             ModelCheckpoint(kfold_weights_path, monitor='val_loss', save_best_only=True, save_weights_only=True, verbose=0)]\n",
    "        \n",
    "#         history = model.fit(x = X_train, y= Y_train, validation_data=(X_valid, Y_valid),\n",
    "#                   batch_size=32,verbose=2, epochs=50,callbacks=callbacks,\n",
    "#                   shuffle=True)\n",
    "#         historys.append(history)\n",
    "        \n",
    "        if os.path.isfile(kfold_weights_path):\n",
    "            model = load_model(kfold_weights_path)\n",
    "#             model.load_weights(kfold_weights_path)\n",
    "        \n",
    "        p_valid = model.predict(X_valid, batch_size = 128, verbose=2)\n",
    "        for i in range(1, 10):\n",
    "            threshold = (i + 1)/100.\n",
    "            score = fbeta_score(Y_valid, np.array(p_valid) > threshold, beta=2, average='samples')\n",
    "            f_scores[num_fold - 1][threshold] = score\n",
    "        \n",
    "#         p_test = model.predict(x_train, batch_size = 128, verbose=2)\n",
    "#         yfull_train.append(p_test)\n",
    "        \n",
    "#         p_test = model.predict(x_test, batch_size = 128, verbose=2)\n",
    "#         yfull_test.append(p_test)"
   ]
  },
  {
   "cell_type": "code",
   "execution_count": 44,
   "metadata": {
    "collapsed": false
   },
   "outputs": [
    {
     "name": "stdout",
     "output_type": "stream",
     "text": [
      "0.8587029001101568\n",
      "0.8549379555605944\n"
     ]
    }
   ],
   "source": [
    "thresholds = []\n",
    "scores = 0\n",
    "\n",
    "with open('fscore_1493796401.json') as f:\n",
    "    f_scores = json.loads(f.read())\n",
    "for score in f_scores[1:]:\n",
    "    max_value = max(score, key=score.get)\n",
    "    thresholds.append(max_value)\n",
    "    scores += score[max_value]\n",
    "print(scores/4.)\n",
    "\n",
    "thresholds = []\n",
    "scores = 0\n",
    "with open('fscore_1493798113.json') as f:\n",
    "    f_scores = json.loads(f.read())\n",
    "for score in f_scores[1:]:\n",
    "    max_value = max(score, key=score.get)\n",
    "    thresholds.append(max_value)\n",
    "    scores += score[max_value]\n",
    "print(scores/4.)"
   ]
  },
  {
   "cell_type": "code",
   "execution_count": 34,
   "metadata": {
    "collapsed": false
   },
   "outputs": [
    {
     "name": "stdout",
     "output_type": "stream",
     "text": [
      "0.3058786387443542\n",
      "0.2912649050951004\n",
      "--------\n",
      "0.2908950395584106\n",
      "0.2976260800361633\n",
      "--------\n",
      "0.29169939303398135\n",
      "0.2930910124778748\n",
      "--------\n",
      "0.29763462114334105\n",
      "0.2960721694231033\n",
      "--------\n",
      "0.28670839476585386\n",
      "0.2903556272983551\n",
      "--------\n"
     ]
    }
   ],
   "source": [
    "\n",
    "with open('history_1493796401.json') as f:\n",
    "    historys1 = json.loads(f.read())\n",
    "\n",
    "with open('history_1493798113.json') as f:\n",
    "    historys2 = json.loads(f.read())\n",
    "\n",
    "plot_num = len(historys1)\n",
    "for i in range(plot_num):\n",
    "    history_dict1 = historys1[i]\n",
    "    history_dict2 = historys2[i]\n",
    "    # history_dict = history.history\n",
    "#     loss_values = history_dict['loss']\n",
    "    loss_values = history_dict1['val_loss']\n",
    "    val_loss_values = history_dict2['val_loss']\n",
    "    print(min(loss_values))\n",
    "    print(min(val_loss_values))\n",
    "    print('--------')\n",
    "#     epochs = range(1, len(loss_values) + 1)\n",
    "#     plt.subplot(plot_num, 1, i + 1)\n",
    "#     # \"bo\" is for \"blue dot\"\n",
    "#     plt.plot(epochs, np.array(loss_values), 'bo')\n",
    "#     # b+ is for \"blue crosses\"\n",
    "#     plt.plot(epochs, np.array(val_loss_values), 'b+')\n",
    "#     plt.xlabel('Epochs')\n",
    "#     plt.ylabel('Loss')\n",
    "\n",
    "#     plt.show()\n"
   ]
  },
  {
   "cell_type": "code",
   "execution_count": 35,
   "metadata": {
    "collapsed": false
   },
   "outputs": [
    {
     "data": {
      "text/plain": [
       "[{'0.02': 0.822565380068371,\n",
       "  '0.03': 0.8350924571903097,\n",
       "  '0.04': 0.8401662519948249,\n",
       "  '0.05': 0.8392753437663605,\n",
       "  '0.06': 0.8339588480398324,\n",
       "  '0.07': 0.8279548941686419,\n",
       "  '0.08': 0.8187429633135713,\n",
       "  '0.09': 0.8101804181692414,\n",
       "  '0.1': 0.8013382606830417,\n",
       "  '0.11': 0.7937314987180314,\n",
       "  '0.12': 0.7856772302996353,\n",
       "  '0.13': 0.7775785738503734,\n",
       "  '0.14': 0.7661786425717634,\n",
       "  '0.15': 0.7561575352681003},\n",
       " {'0.02': 0.8229874266167094,\n",
       "  '0.03': 0.8399200369744582,\n",
       "  '0.04': 0.8497989663438869,\n",
       "  '0.05': 0.8590413683687559,\n",
       "  '0.06': 0.8596388748280929,\n",
       "  '0.07': 0.8592228768300358,\n",
       "  '0.08': 0.8564787688388689,\n",
       "  '0.09': 0.8542328667792346,\n",
       "  '0.1': 0.8466678931052793,\n",
       "  '0.11': 0.8409827396156722,\n",
       "  '0.12': 0.83502535629003,\n",
       "  '0.13': 0.8276645411205923,\n",
       "  '0.14': 0.8187591883051255,\n",
       "  '0.15': 0.8079915445661292},\n",
       " {'0.02': 0.8359250095757875,\n",
       "  '0.03': 0.8492973946772417,\n",
       "  '0.04': 0.8558994784675192,\n",
       "  '0.05': 0.8587835711031394,\n",
       "  '0.06': 0.8593758746412685,\n",
       "  '0.07': 0.8576431007197518,\n",
       "  '0.08': 0.8526437066860606,\n",
       "  '0.09': 0.8463492469174319,\n",
       "  '0.1': 0.840591181366812,\n",
       "  '0.11': 0.835278411300291,\n",
       "  '0.12': 0.82667623015761,\n",
       "  '0.13': 0.8213450567244466,\n",
       "  '0.14': 0.8146797564764878,\n",
       "  '0.15': 0.8030678271705524},\n",
       " {'0.02': 0.8404125116219252,\n",
       "  '0.03': 0.8505283834763113,\n",
       "  '0.04': 0.8539928698315301,\n",
       "  '0.05': 0.8514392340594825,\n",
       "  '0.06': 0.8482034116679097,\n",
       "  '0.07': 0.8453321207660904,\n",
       "  '0.08': 0.8400287180507741,\n",
       "  '0.09': 0.8351367935387934,\n",
       "  '0.1': 0.8293920917017933,\n",
       "  '0.11': 0.8244915454969655,\n",
       "  '0.12': 0.8199962478597861,\n",
       "  '0.13': 0.8140850960767633,\n",
       "  '0.14': 0.807094927419818,\n",
       "  '0.15': 0.7953363564709077},\n",
       " {'0.02': 0.8458370905231631,\n",
       "  '0.03': 0.856673805614218,\n",
       "  '0.04': 0.8612533837785051,\n",
       "  '0.05': 0.8618039811397359,\n",
       "  '0.06': 0.8614770588485634,\n",
       "  '0.07': 0.859478693163269,\n",
       "  '0.08': 0.8562682032126804,\n",
       "  '0.09': 0.8516673149129171,\n",
       "  '0.1': 0.8460542294871538,\n",
       "  '0.11': 0.840040751341401,\n",
       "  '0.12': 0.8344760648237317,\n",
       "  '0.13': 0.8284305000134587,\n",
       "  '0.14': 0.8205270268478024,\n",
       "  '0.15': 0.8118049633594814}]"
      ]
     },
     "execution_count": 35,
     "metadata": {},
     "output_type": "execute_result"
    }
   ],
   "source": [
    "with open('fscore_1493796401.json') as f:\n",
    "    scores = json.loads(f.read())\n",
    "scores"
   ]
  },
  {
   "cell_type": "code",
   "execution_count": 36,
   "metadata": {
    "collapsed": false
   },
   "outputs": [
    {
     "name": "stdout",
     "output_type": "stream",
     "text": [
      "7 7\n",
      "range(1, 8)\n"
     ]
    },
    {
     "data": {
      "image/png": "[encoded data removed]",
      "text/plain": [
       "<matplotlib.figure.Figure at 0x7fa893e6acf8>"
      ]
     },
     "metadata": {},
     "output_type": "display_data"
    },
    {
     "name": "stdout",
     "output_type": "stream",
     "text": [
      "14 14\n",
      "range(1, 15)\n"
     ]
    },
    {
     "data": {
      "image/png": "[encoded data removed]",
      "text/plain": [
       "<matplotlib.figure.Figure at 0x7fa888717588>"
      ]
     },
     "metadata": {},
     "output_type": "display_data"
    },
    {
     "name": "stdout",
     "output_type": "stream",
     "text": [
      "13 13\n",
      "range(1, 14)\n"
     ]
    },
    {
     "data": {
      "image/png": "[encoded data removed]",
      "text/plain": [
       "<matplotlib.figure.Figure at 0x7fa8886f8518>"
      ]
     },
     "metadata": {},
     "output_type": "display_data"
    },
    {
     "name": "stdout",
     "output_type": "stream",
     "text": [
      "14 14\n",
      "range(1, 15)\n"
     ]
    },
    {
     "data": {
      "image/png": "[encoded data removed]",
      "text/plain": [
       "<matplotlib.figure.Figure at 0x7fa893d74da0>"
      ]
     },
     "metadata": {},
     "output_type": "display_data"
    },
    {
     "name": "stdout",
     "output_type": "stream",
     "text": [
      "15 15\n",
      "range(1, 16)\n"
     ]
    },
    {
     "data": {
      "image/png": "[encoded data removed]",
      "text/plain": [
       "<matplotlib.figure.Figure at 0x7fa893d4e0b8>"
      ]
     },
     "metadata": {},
     "output_type": "display_data"
    }
   ],
   "source": [
    "for i in range(plot_num):\n",
    "    history_dict = historys1[i]\n",
    "    acc_values = history_dict['acc']\n",
    "    val_acc_values = history_dict['val_acc']\n",
    "    print(len(acc_values), len(val_acc_values))\n",
    "    epochs = range(1, len(val_acc_values) + 1)\n",
    "    print(epochs)\n",
    "    plt.subplot(plot_num, 1, i+1)\n",
    "    \n",
    "    plt.plot(epochs, np.array(acc_values), 'bo')\n",
    "    plt.plot(epochs, np.array(val_acc_values), 'b+')\n",
    "    plt.xlabel('Epochs')\n",
    "    plt.ylabel('Accuracy')\n",
    "\n",
    "    plt.show()"
   ]
  },
  {
   "cell_type": "code",
   "execution_count": null,
   "metadata": {
    "collapsed": false
   },
   "outputs": [],
   "source": [
    "yfull_test = []\n",
    "\n",
    "for f, tags in tqdm(df_test.values, miniters=1000):\n",
    "    img = cv2.imread('../input/test-jpg/{}.jpg'.format(f))\n",
    "    x_test.append(cv2.resize(img, (64, 64)))\n",
    "\n",
    "x_test  = np.array(x_test, np.float32) / 255."
   ]
  },
  {
   "cell_type": "code",
   "execution_count": null,
   "metadata": {
    "collapsed": false
   },
   "outputs": [],
   "source": [
    "for i in range(1, 6):\n",
    "    model = load_model('weights_kfold_' + str(i) + '.h5')\n",
    "    p_test = model.predict(x_test, batch_size = 128, verbose=2)\n",
    "    yfull_test.append(p_test)\n",
    "    print('Finished {} prediction'.format(i))"
   ]
  },
  {
   "cell_type": "code",
   "execution_count": null,
   "metadata": {
    "collapsed": false
   },
   "outputs": [],
   "source": [
    "yfull_test[0].shape"
   ]
  },
  {
   "cell_type": "code",
   "execution_count": null,
   "metadata": {
    "collapsed": false
   },
   "outputs": [],
   "source": [
    "binary_results = []\n",
    "for i in range(_NFOLDS):\n",
    "    result = np.array(yfull_test[i])\n",
    "    result = np.where(result > float(thresholds[i]), 1, 0)\n",
    "    binary_results.append(result)\n",
    "\n",
    "final_result = binary_results[0]\n",
    "for i in range(1, _NFOLDS):\n",
    "    final_result += binary_results[i]\n",
    "# final_result = pd.DataFrame(result, columns = labels)\n",
    "final_result = np.where(final_result > 2., 1, 0)\n",
    "# final_result[:10]\n",
    "# result = np.array(yfull_test[0])\n",
    "# for i in range(1, _NFOLDS):\n",
    "#     result += np.array(yfull_test[i])\n",
    "# result /= _NFOLDS\n",
    "result = pd.DataFrame(final_result, columns = labels)\n",
    "result"
   ]
  },
  {
   "cell_type": "code",
   "execution_count": null,
   "metadata": {
    "collapsed": false
   },
   "outputs": [],
   "source": [
    "result.shape"
   ]
  },
  {
   "cell_type": "code",
   "execution_count": null,
   "metadata": {
    "collapsed": false
   },
   "outputs": [],
   "source": [
    "preds = []\n",
    "for i in tqdm(range(result.shape[0]), miniters=1000):\n",
    "    a = result.ix[[i]]\n",
    "    a = a.apply(lambda x: x > 0, axis=1)\n",
    "    a = a.transpose()\n",
    "    a = a.loc[a[i] == True]\n",
    "    ' '.join(list(a.index))\n",
    "    preds.append(' '.join(list(a.index)))"
   ]
  },
  {
   "cell_type": "code",
   "execution_count": null,
   "metadata": {
    "collapsed": false
   },
   "outputs": [],
   "source": [
    "# preds\n",
    "df_test['tags'] = preds\n",
    "df_test"
   ]
  },
  {
   "cell_type": "code",
   "execution_count": null,
   "metadata": {
    "collapsed": true
   },
   "outputs": [],
   "source": [
    "df_test.to_csv('submission_keras2.csv', index=False)"
   ]
  }
 ],
 "metadata": {
  "anaconda-cloud": {},
  "kernelspec": {
   "display_name": "Python [conda root]",
   "language": "python",
   "name": "conda-root-py"
  },
  "language_info": {
   "codemirror_mode": {
    "name": "ipython",
    "version": 3
   },
   "file_extension": ".py",
   "mimetype": "text/x-python",
   "name": "python",
   "nbconvert_exporter": "python",
   "pygments_lexer": "ipython3",
   "version": "3.5.2"
  }
 },
 "nbformat": 4,
 "nbformat_minor": 1
}
